{
  "nbformat": 4,
  "nbformat_minor": 0,
  "metadata": {
    "colab": {
      "name": "cointhing.ipynb",
      "provenance": [],
      "authorship_tag": "ABX9TyPyPXSgrsJ/zmYrWVXqEjM1",
      "include_colab_link": true
    },
    "kernelspec": {
      "display_name": "Python 3",
      "name": "python3"
    },
    "language_info": {
      "name": "python"
    }
  },
  "cells": [
    {
      "cell_type": "markdown",
      "metadata": {
        "id": "view-in-github",
        "colab_type": "text"
      },
      "source": [
        "<a href=\"https://colab.research.google.com/github/pdkary/BlockHack2021/blob/master/cointhing.ipynb\" target=\"_parent\"><img src=\"https://colab.research.google.com/assets/colab-badge.svg\" alt=\"Open In Colab\"/></a>"
      ]
    },
    {
      "cell_type": "code",
      "metadata": {
        "id": "oAQNJ064EThP"
      },
      "source": [
        "import requests\n",
        "from bs4 import BeautifulSoup\n",
        "import numpy as np\n",
        "URL = 'https://www.vlr.gg/rankings/north-america'\n",
        "page = requests.get(URL)\n",
        "import json\n"
      ],
      "execution_count": null,
      "outputs": []
    },
    {
      "cell_type": "code",
      "metadata": {
        "id": "eD1BpndcE3xD"
      },
      "source": [
        ""
      ],
      "execution_count": null,
      "outputs": []
    },
    {
      "cell_type": "code",
      "metadata": {
        "id": "yMDe-rsBE5Oj"
      },
      "source": [
        "#\n",
        "\n",
        "def getValues():\n",
        "  soup = BeautifulSoup(page.content, 'html.parser')\n",
        "  job_elems = soup.find_all('td', class_='rank-item-team')\n",
        "  teams = []\n",
        "  ratings = []\n",
        "  im = []\n",
        "  for job_elem in job_elems:\n",
        "      # Each job_elem is a new BeautifulSoup object.\n",
        "      # You can use the same methods on it as you did before.\n",
        "    title_elem = job_elem.find('img')\n",
        "    if (title_elem.attrs['src'][1] == '/'):\n",
        "\n",
        "      im.append(title_elem.attrs['src'])\n",
        "    else:\n",
        "      im.append('https://www.vlr.gg'+title_elem.attrs['src'])\n",
        "\n",
        "  for job_elem in job_elems:\n",
        "      # Each job_elem is a new BeautifulSoup object.\n",
        "      # You can use the same methods on it as you did before.\n",
        "      title_elem = job_elem.find('div')\n",
        "\n",
        "\n",
        "      #teams.append(title_elem.text)\n",
        "      teams.append(title_elem.text)\n",
        "  job_elems = soup.find_all('td', class_='rank-item-rating')\n",
        "  for job_elem in job_elems:\n",
        "      # Each job_elem is a new BeautifulSoup object.\n",
        "      # You can use the same methods on it as you did before.\n",
        "      title_elem = job_elem.find('a')\n",
        "\n",
        "      #teams.append(title_elem.text)\n",
        "      ratings.append(title_elem.text)\n",
        "\n",
        "\n",
        "\n",
        "  rlist=[]\n",
        "  teamDict={}\n",
        "  tlist=[]\n",
        "  for i in teams:\n",
        "    c=9\n",
        "    t = ''\n",
        "    while (i[c]!='\\t'):\n",
        "      t +=i[c]\n",
        "      c+=1\n",
        "    tlist.append(t)\n",
        "\n",
        "  \n",
        "  for i in ratings:\n",
        "    c=8\n",
        "    a = ''\n",
        "    while (i[c]!='\\t'):\n",
        "      a +=i[c]\n",
        "      \n",
        "\n",
        "      c+=1\n",
        "    rlist.append(a)\n",
        "\n",
        "\n",
        "  for i in range(len(tlist)):\n",
        "    teamDict[str(tlist[i])] = [int(rlist[i]),str(im[i])]\n",
        "    #tlist[i].append(rlist[i])\n",
        "\n",
        "  return(teamDict)"
      ],
      "execution_count": null,
      "outputs": []
    },
    {
      "cell_type": "code",
      "metadata": {
        "id": "Whd17tCkFS0d",
        "colab": {
          "base_uri": "https://localhost:8080/"
        },
        "outputId": "2dd4a8df-ef3a-40d9-e3b9-f77aed6ae47c"
      },
      "source": [
        "#getValues()"
      ],
      "execution_count": null,
      "outputs": [
        {
          "output_type": "execute_result",
          "data": {
            "text/plain": [
              "{'100 Thieves': [1956, '//owcdn.net/img/603c00d5c5a08.png'],\n",
              " '303 Esports': [1423, '//owcdn.net/img/5ee3d9c4e1aa5.png'],\n",
              " 'ATK Mode': [1428, 'https://www.vlr.gg/img/vlr/tmp/vlr.png'],\n",
              " 'Able Esports': [1472, '//owcdn.net/img/6012273369dee.png'],\n",
              " 'Agoge Gaming': [1467, '//owcdn.net/img/606cca343ef04.png'],\n",
              " 'Akuma Esports': [1439, 'https://www.vlr.gg/img/vlr/tmp/vlr.png'],\n",
              " 'Andbox': [1775, '//owcdn.net/img/5f64213a6402f.png'],\n",
              " 'Aqua': [1435, 'https://www.vlr.gg/img/vlr/tmp/vlr.png'],\n",
              " 'Archons': [1532, 'https://www.vlr.gg/img/vlr/tmp/vlr.png'],\n",
              " 'BLAHAJ': [1502, 'https://www.vlr.gg/img/vlr/tmp/vlr.png'],\n",
              " 'Big Backwoods': [1499, 'https://www.vlr.gg/img/vlr/tmp/vlr.png'],\n",
              " 'Bounty Esports': [1509, '//owcdn.net/img/604546315d5b3.png'],\n",
              " 'Brimstone Gaming': [1549, '//owcdn.net/img/606fc71589ccd.png'],\n",
              " 'Built By Gamers': [1726, '//owcdn.net/img/5f88bd1e66d4b.png'],\n",
              " 'CLG Red': [1502, '//owcdn.net/img/60565e05aa75d.png'],\n",
              " 'Cloud9 Blue': [1940, '//owcdn.net/img/60135aa861fc5.png'],\n",
              " 'Cloud9 White ': [1531, '//owcdn.net/img/60135aa861fc5.png'],\n",
              " 'Complexity': [1682, '//owcdn.net/img/5f10c1a708ec6.png'],\n",
              " 'Cosmic Divide': [1503, '//owcdn.net/img/604db626657a1.png'],\n",
              " 'Cube Esports': [1480, 'https://www.vlr.gg/img/vlr/tmp/vlr.png'],\n",
              " 'D2E Stayrooted': [1448, 'https://www.vlr.gg/img/vlr/tmp/vlr.png'],\n",
              " 'DNADIFF': [1481, 'https://www.vlr.gg/img/vlr/tmp/vlr.png'],\n",
              " 'Dallas Vandetta': [1394, '//owcdn.net/img/6066633aa1b2e.png'],\n",
              " 'Decisive': [1559, '//owcdn.net/img/60400b4f35194.png'],\n",
              " 'Delta eSports': [1457, 'https://www.vlr.gg/img/vlr/tmp/vlr.png'],\n",
              " 'Delusional Confidence': [1495, 'https://www.vlr.gg/img/vlr/tmp/vlr.png'],\n",
              " 'Depth Esports': [1484, 'https://www.vlr.gg/img/vlr/tmp/vlr.png'],\n",
              " 'Dialed In': [1473, 'https://www.vlr.gg/img/vlr/tmp/vlr.png'],\n",
              " 'Dignitas ': [1381, '//owcdn.net/img/5ff7841731aa5.png'],\n",
              " 'EX-SAKURA STORM': [1513, 'https://www.vlr.gg/img/vlr/tmp/vlr.png'],\n",
              " 'Elmerz Glue': [1560, 'https://www.vlr.gg/img/vlr/tmp/vlr.png'],\n",
              " 'Entourage ': [1480, 'https://www.vlr.gg/img/vlr/tmp/vlr.png'],\n",
              " 'Envy': [1937, '//owcdn.net/img/5f3ca822464a3.png'],\n",
              " 'Evil Geniuses': [1586, '//owcdn.net/img/6011e22fc5be3.png'],\n",
              " 'ExPandable': [1448, 'https://www.vlr.gg/img/vlr/tmp/vlr.png'],\n",
              " 'Exotic': [1454, 'https://www.vlr.gg/img/vlr/tmp/vlr.png'],\n",
              " 'FNR Black': [1476, 'https://www.vlr.gg/img/vlr/tmp/vlr.png'],\n",
              " 'FREELO': [1473, 'https://www.vlr.gg/img/vlr/tmp/vlr.png'],\n",
              " 'FaZe Clan': [1962, '//owcdn.net/img/5ef51451b0601.png'],\n",
              " 'Fluid Gaming': [1463, '//owcdn.net/img/6077afdcaf7a9.png'],\n",
              " 'Foxy': [1536, '//owcdn.net/img/606b7d4da3fbe.png'],\n",
              " 'Frick Ya Bag': [1519, 'https://www.vlr.gg/img/vlr/tmp/vlr.png'],\n",
              " 'Gen.G': [1925, '//owcdn.net/img/5f308c5756db6.png'],\n",
              " 'Ghost Gaming': [1689, '//owcdn.net/img/5fff8b6fa23a3.png'],\n",
              " 'Goldhorn Gaming': [1445, 'https://www.vlr.gg/img/vlr/tmp/vlr.png'],\n",
              " 'HEAD HUNTERS': [1479, 'https://www.vlr.gg/img/vlr/tmp/vlr.png'],\n",
              " 'Ich Bin': [1494, 'https://www.vlr.gg/img/vlr/tmp/vlr.png'],\n",
              " 'Icons': [1481, 'https://www.vlr.gg/img/vlr/tmp/vlr.png'],\n",
              " 'Illuzion Black': [1497, '//owcdn.net/img/60695f4f4e9b2.png'],\n",
              " 'Illuzion Orange': [1438, '//owcdn.net/img/60695f306f058.png'],\n",
              " 'Immortals': [1836, '//owcdn.net/img/602e1b45e079f.png'],\n",
              " 'Indiana Syndicate': [1483, 'https://www.vlr.gg/img/vlr/tmp/vlr.png'],\n",
              " 'Insight': [1501, '//owcdn.net/img/60916c521208f.png'],\n",
              " 'Interstate 95': [1490, 'https://www.vlr.gg/img/vlr/tmp/vlr.png'],\n",
              " 'Kingsmen': [1486, 'https://www.vlr.gg/img/vlr/tmp/vlr.png'],\n",
              " 'Kooky Koalas ': [1614, '//owcdn.net/img/6067a1992bd70.png'],\n",
              " 'LGI': [1475, 'https://www.vlr.gg/img/vlr/tmp/vlr.png'],\n",
              " 'Last Round Save': [1558, '//owcdn.net/img/605fc27ed2512.png'],\n",
              " 'Lazarus': [1477, 'https://www.vlr.gg/img/vlr/tmp/vlr.png'],\n",
              " 'Luminosity': [1837, '//owcdn.net/img/5f36ec1f4ab21.png'],\n",
              " 'Lunch Club': [1491, 'https://www.vlr.gg/img/vlr/tmp/vlr.png'],\n",
              " 'Lycus Empire': [1475, '//owcdn.net/img/6065f49c8dea6.png'],\n",
              " 'Man I Love Fwogs': [1485, 'https://www.vlr.gg/img/vlr/tmp/vlr.png'],\n",
              " 'NBKS CENTURIONS': [1508, 'https://www.vlr.gg/img/vlr/tmp/vlr.png'],\n",
              " 'NC State Esports': [1453, 'https://www.vlr.gg/img/vlr/tmp/vlr.png'],\n",
              " 'NRG Esports': [1823, '//owcdn.net/img/5f7b9ff821d6d.png'],\n",
              " 'NYK': [1487, 'https://www.vlr.gg/img/vlr/tmp/vlr.png'],\n",
              " 'Nautic': [1451, 'https://www.vlr.gg/img/vlr/tmp/vlr.png'],\n",
              " 'Noble': [1747, '//owcdn.net/img/605e2398436d0.png'],\n",
              " 'O.O.D.A Loopers': [1534, 'https://www.vlr.gg/img/vlr/tmp/vlr.png'],\n",
              " 'OOKERS': [1609, '//owcdn.net/img/606b7d778932e.png'],\n",
              " 'OW Refugees': [1486, 'https://www.vlr.gg/img/vlr/tmp/vlr.png'],\n",
              " 'OWA OWA': [1493, 'https://www.vlr.gg/img/vlr/tmp/vlr.png'],\n",
              " 'On The Way': [1650, '//owcdn.net/img/606469eae014e.png'],\n",
              " 'Onslaught Gaming': [1420, '//owcdn.net/img/5fad9bd5735fe.png'],\n",
              " 'Pittsburgh Knights': [1677, '//owcdn.net/img/604022f368433.png'],\n",
              " 'PremierGG': [1466, '//owcdn.net/img/604024c9641bc.png'],\n",
              " 'Primeval': [1480, 'https://www.vlr.gg/img/vlr/tmp/vlr.png'],\n",
              " 'Prism Esports': [1382, '//owcdn.net/img/5f8fb135886a5.png'],\n",
              " 'Pure': [1473, 'https://www.vlr.gg/img/vlr/tmp/vlr.png'],\n",
              " 'RIFLE CRUTCHERS': [1523, 'https://www.vlr.gg/img/vlr/tmp/vlr.png'],\n",
              " 'Radiant Roombas': [1383, 'https://www.vlr.gg/img/vlr/tmp/vlr.png'],\n",
              " 'Recon 5': [1473, 'https://www.vlr.gg/img/vlr/tmp/vlr.png'],\n",
              " 'Reformed': [1560, '//owcdn.net/img/605e8f7b6c2cd.png'],\n",
              " 'Renegades': [1821, '//owcdn.net/img/5f0f5c0ea3426.png'],\n",
              " 'Resonate': [1572, '//owcdn.net/img/5feae80607cfc.png'],\n",
              " 'Rise': [1736, '//owcdn.net/img/5f3874cbd2156.png'],\n",
              " 'Sakura Storm': [1480, 'https://www.vlr.gg/img/vlr/tmp/vlr.png'],\n",
              " 'Scrub Garden': [1472, 'https://www.vlr.gg/img/vlr/tmp/vlr.png'],\n",
              " 'Sentinels': [2264, '//owcdn.net/img/5f25fa763f7ad.png'],\n",
              " 'Slimy Boogermen': [1568, 'https://www.vlr.gg/img/vlr/tmp/vlr.png'],\n",
              " 'SoaR': [1650, '//owcdn.net/img/6078f67e26529.png'],\n",
              " 'Soniqs': [1853, '//owcdn.net/img/6006fd406bb9d.png'],\n",
              " 'Space Bound': [1460, 'https://www.vlr.gg/img/vlr/tmp/vlr.png'],\n",
              " 'Spectral Esports': [1485, 'https://www.vlr.gg/img/vlr/tmp/vlr.png'],\n",
              " 'Squirtle Squad': [1584, 'https://www.vlr.gg/img/vlr/tmp/vlr.png'],\n",
              " 'StarlessGG': [1471, 'https://www.vlr.gg/img/vlr/tmp/vlr.png'],\n",
              " 'Starlight': [1476, 'https://www.vlr.gg/img/vlr/tmp/vlr.png'],\n",
              " 'Sum 2 Prove': [1554, 'https://www.vlr.gg/img/vlr/tmp/vlr.png'],\n",
              " 'T1': [1772, '//owcdn.net/img/5ea85d21e625f.png'],\n",
              " 'THE FIVE EMPERORS': [1491, 'https://www.vlr.gg/img/vlr/tmp/vlr.png'],\n",
              " 'TSM': [1875, '//owcdn.net/img/5f3ca6f653a9c.png'],\n",
              " 'TSM Female': [1493, '//owcdn.net/img/5f3ca6f653a9c.png'],\n",
              " 'Take Flyte': [1575, '//owcdn.net/img/608dd1ece583e.png'],\n",
              " 'Teal Seam': [1619, 'https://www.vlr.gg/img/vlr/tmp/vlr.png'],\n",
              " 'Team Basilisk': [1616, '//owcdn.net/img/6075d49df34a2.png'],\n",
              " 'Team Name': [1538, 'https://www.vlr.gg/img/vlr/tmp/vlr.png'],\n",
              " 'Time In': [1573, '//owcdn.net/img/5f8a49ae44d25.png'],\n",
              " 'Titan Esports': [1447, '//owcdn.net/img/606b7d6361b14.png'],\n",
              " 'TradeLikePros': [1488, '//owcdn.net/img/5fe9930a75767.png'],\n",
              " 'Triangle Offense': [1475, 'https://www.vlr.gg/img/vlr/tmp/vlr.png'],\n",
              " 'Ultraviolet': [1485, '//owcdn.net/img/605278f62c6de.png'],\n",
              " 'VIRTUOSO': [1512, '//owcdn.net/img/60596dc031e40.png'],\n",
              " 'VT Valorant': [1473, 'https://www.vlr.gg/img/vlr/tmp/vlr.png'],\n",
              " 'Valkyrie': [1430, '//owcdn.net/img/602a5e8096f5e.png'],\n",
              " 'Version1': [2000, '//owcdn.net/img/6028427b5bbd6.png'],\n",
              " 'Watch This': [1486, '//owcdn.net/img/60613f108f717.png'],\n",
              " 'Waverunners': [1459, '//owcdn.net/img/606b5950a01ae.png'],\n",
              " 'XSET': [1806, '//owcdn.net/img/5f9725636681d.png'],\n",
              " 'YFP Gaming': [1431, 'https://www.vlr.gg/img/vlr/tmp/vlr.png'],\n",
              " 'Zero MarksMen': [1514, '//owcdn.net/img/5ff4634170224.png'],\n",
              " 'afterMath Esports': [1482, '//owcdn.net/img/6077c35d2e943.png'],\n",
              " 'asdf': [1498, 'https://www.vlr.gg/img/vlr/tmp/vlr.png'],\n",
              " 'eUnited': [1640, '//owcdn.net/img/5ffcfefca4e61.png'],\n",
              " 'ez5': [1676, '//owcdn.net/img/606bc3accbd34.png'],\n",
              " 'no shot': [1482, 'https://www.vlr.gg/img/vlr/tmp/vlr.png'],\n",
              " 'seeker': [1520, '//owcdn.net/img/6066764b57907.png'],\n",
              " 'the boys': [1518, 'https://www.vlr.gg/img/vlr/tmp/vlr.png']}"
            ]
          },
          "metadata": {
            "tags": []
          },
          "execution_count": 3
        }
      ]
    },
    {
      "cell_type": "code",
      "metadata": {
        "id": "ov6um_WcUVdc"
      },
      "source": [
        "with open('values.json', 'w') as json_file:\n",
        "  json.dump(getValues(), json_file)\n"
      ],
      "execution_count": null,
      "outputs": []
    },
    {
      "cell_type": "code",
      "metadata": {
        "id": "ee-SYqCnF_gd"
      },
      "source": [
        ""
      ],
      "execution_count": null,
      "outputs": []
    },
    {
      "cell_type": "code",
      "metadata": {
        "id": "dy6taSdBKh7V"
      },
      "source": [
        ""
      ],
      "execution_count": null,
      "outputs": []
    },
    {
      "cell_type": "code",
      "metadata": {
        "id": "odMN3ULiKh94"
      },
      "source": [
        ""
      ],
      "execution_count": null,
      "outputs": []
    },
    {
      "cell_type": "code",
      "metadata": {
        "id": "UyrgN0vaPPDM"
      },
      "source": [
        ""
      ],
      "execution_count": null,
      "outputs": []
    },
    {
      "cell_type": "code",
      "metadata": {
        "id": "IcTbyeE6IpA9"
      },
      "source": [
        ""
      ],
      "execution_count": null,
      "outputs": []
    },
    {
      "cell_type": "code",
      "metadata": {
        "id": "ohP-a3N0Lgd6"
      },
      "source": [
        ""
      ],
      "execution_count": null,
      "outputs": []
    },
    {
      "cell_type": "code",
      "metadata": {
        "id": "j2eK6BYlOMbW"
      },
      "source": [
        ""
      ],
      "execution_count": null,
      "outputs": []
    },
    {
      "cell_type": "code",
      "metadata": {
        "id": "VhqweY3JL6Ax"
      },
      "source": [
        ""
      ],
      "execution_count": null,
      "outputs": []
    }
  ]
}